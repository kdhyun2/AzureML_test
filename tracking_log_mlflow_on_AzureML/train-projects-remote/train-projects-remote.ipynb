{
  "cells": [
    {
      "cell_type": "markdown",
      "metadata": {},
      "source": [
        "![Impressions](https://PixelServer20190423114238.azurewebsites.net/api/impressions/MachineLearningNotebooks/how-to-use-azureml/track-and-monitor-experiments/using-mlflow/train-projects-remote/train-projects-remote.png)"
      ]
    },
    {
      "cell_type": "markdown",
      "metadata": {},
      "source": [
        "Copyright (c) Microsoft Corporation. All rights reserved.\n",
        "\n",
        "Licensed under the MIT License."
      ]
    },
    {
      "cell_type": "markdown",
      "metadata": {},
      "source": [
        "# Train with MLflow Projects on AML Compute\n",
        "\n",
        "Train MLflow Projects on Azure Machine Learning Compute.\n",
        "\n",
        "Train MLflow Projects on your machine with AzureML compute and tracking. In this notebook you will:\n",
        "\n",
        "1. Set up MLflow tracking URI to track experiments and metrics in AzureML\n",
        "2. Create experiment\n",
        "3. Set up an MLflow project to run on AzureML compute\n",
        "4. Submit an MLflow project run and view it in an AzureML workspace \n"
      ]
    },
    {
      "cell_type": "markdown",
      "metadata": {},
      "source": [
        "## Prerequisites \n",
        "\n",
        "If you are using a Notebook VM, you are all set. Otherwise, go through the [Configuration](../../../../configuration.ipnyb) notebook to set up your Azure Machine Learning workspace and ensure other common prerequisites are met.\n",
        "\n",
        "Make sure you have the following before staring the notebook: \n",
        "- Connected to an AML Workspace \n",
        "- Have an existing [Azure ML Compute cluster](https://docs.microsoft.com/azure/machine-learning/how-to-create-attach-compute-sdk#amlcompute) in that Workspace \n",
        "- Have an MLproject file with a modified environment specification \n",
        "\n",
        "Add the azureml-mlflow package as a pip dependency to your environment configuration file (conda.yaml). The project can run without this addition, but key artifacts and metrics will not be logged to your Workspace. An example conda.yaml is included in this tutorial folder with the necessary packages. \n"
      ]
    },
    {
      "cell_type": "markdown",
      "metadata": {},
      "source": [
        "## Set-up \n",
        "\n",
        "Check the Azure ML and MLflow SDK version installed on your computer and connect to your workspace"
      ]
    },
    {
      "cell_type": "code",
      "execution_count": 1,
      "metadata": {
        "tags": []
      },
      "outputs": [
        {
          "name": "stdout",
          "output_type": "stream",
          "text": [
            "SDK version: 1.33.0\n",
            "MLflow version: 1.19.0\n",
            "brf-mlops-test\n",
            "kdhyun2_test\n",
            "eastus\n",
            "183da9dd-5294-4576-ba31-a7293f3de21d\n"
          ]
        }
      ],
      "source": [
        "import sys, os\n",
        "import mlflow\n",
        "import mlflow.azureml\n",
        "\n",
        "import azureml.core\n",
        "from azureml.core import Workspace\n",
        "\n",
        "ws = Workspace.from_config()\n",
        "\n",
        "print(\"SDK version:\", azureml.core.VERSION)\n",
        "print(\"MLflow version:\", mlflow.version.VERSION)\n",
        "print(ws.name, ws.resource_group, ws.location, ws.subscription_id, sep = '\\n')\n"
      ]
    },
    {
      "cell_type": "markdown",
      "metadata": {},
      "source": [
        "## Initialize Tracking Store and Experiment\n",
        "\n",
        "### Set Tracking URI \n",
        "\n",
        "Set the MLflow tracking URI to point to your Azure ML Workspace. The subsequent logging calls from MLflow APIs will go to Azure ML services and will be tracked under your Workspace."
      ]
    },
    {
      "cell_type": "code",
      "execution_count": 2,
      "metadata": {
        "tags": []
      },
      "outputs": [],
      "source": [
        "mlflow.set_tracking_uri(ws.get_mlflow_tracking_uri())"
      ]
    },
    {
      "cell_type": "markdown",
      "metadata": {},
      "source": [
        "### Create Experiment\n",
        "\n",
        "Create an Mlflow Experiment to organize your runs. It can be set either by passing the name as a **parameter** in the mlflow.projects.run call or by the following,"
      ]
    },
    {
      "cell_type": "code",
      "execution_count": 3,
      "metadata": {
        "tags": []
      },
      "outputs": [
        {
          "name": "stdout",
          "output_type": "stream",
          "text": [
            "INFO: 'train-project-amlcompute' does not exist. Creating a new experiment\n"
          ]
        }
      ],
      "source": [
        "experiment_name = \"train-project-amlcompute\"\n",
        "mlflow.set_experiment(experiment_name)"
      ]
    },
    {
      "cell_type": "markdown",
      "metadata": {},
      "source": [
        "## Create the Backend Configuration Object\n",
        "\n",
        "The backend configuration object will store necesary information for the integration such as the compute target and whether to use your local managed environment or a system managed environment. \n",
        "\n",
        "The integration will accept \"COMPUTE\" and \"USE_CONDA\" as parameters where \"COMPUTE\" is set to the name of your remote compute cluster and \"USE_CONDA\" which creates a new environment for the project from the environment configuration file. If \"COMPUTE\" is present in the object, the project will be automatically submitted to the remote compute and ignore \"USE_CONDA\". MLflow accepts a dictionary object or a JSON file."
      ]
    },
    {
      "cell_type": "code",
      "execution_count": 6,
      "metadata": {},
      "outputs": [],
      "source": [
        "# dictionary\n",
        "# backend_config = {\"COMPUTE\": \"cpu-cluster\", \"USE_CONDA\": False}\n",
        "backend_config = {\"USE_CONDA\": False}\n"
      ]
    },
    {
      "cell_type": "markdown",
      "metadata": {},
      "source": [
        "## Modify your Environment specification\n",
        "\n",
        "Add the azureml-mlflow package as a pip dependency to your environment configuration file (conda.yaml). The project can run without this addition, but key artifacts and metrics will not be logged to your Workspace. An example conda.yaml is included in the notebook folder. Adding it to to the file will look like this,\n",
        "\n",
        "```\n",
        "name: mlflow-example\n",
        "channels:\n",
        "  - defaults\n",
        "  - anaconda\n",
        "  - conda-forge\n",
        "dependencies:\n",
        "  - python=3.6\n",
        "  - scikit-learn=0.19.1\n",
        "  - pip\n",
        "  - pip:\n",
        "    - mlflow\n",
        "    - azureml-mlflow\n",
        "```"
      ]
    },
    {
      "cell_type": "markdown",
      "metadata": {},
      "source": [
        "## Submit Run \n",
        "\n",
        "Submit the mlflow project run using aml compute and ensure the **backened** parameter is set to azureml.\n",
        "\n"
      ]
    },
    {
      "cell_type": "code",
      "execution_count": 7,
      "metadata": {
        "tags": []
      },
      "outputs": [
        {
          "name": "stderr",
          "output_type": "stream",
          "text": [
            "Class AzureMLProjectBackend: This is an experimental class, and may change at any time. Please see https://aka.ms/azuremlexperimental for more information.\n",
            "2021/12/08 02:47:09 INFO mlflow.projects.utils: === Created directory /tmp/tmp9s43a4ba for downloading remote URIs passed to arguments of type 'path' ===\n",
            "No Python version provided, defaulting to \"3.6.2\"\n"
          ]
        },
        {
          "name": "stdout",
          "output_type": "stream",
          "text": [
            "08/12/2021 02:46:36 INFO azureml.mlflow: === Creating conda environment from Mlproject for local run ===\n"
          ]
        },
        {
          "name": "stderr",
          "output_type": "stream",
          "text": [
            "Class AzureMLSubmittedRun: This is an experimental class, and may change at any time. Please see https://aka.ms/azuremlexperimental for more information.\n"
          ]
        },
        {
          "name": "stdout",
          "output_type": "stream",
          "text": [
            "RunId: train-project-amlcompute_1638931630_efeb1c94\n",
            "Web View: https://ml.azure.com/runs/train-project-amlcompute_1638931630_efeb1c94?wsid=/subscriptions/183da9dd-5294-4576-ba31-a7293f3de21d/resourcegroups/kdhyun2_test/workspaces/brf-mlops-test&tid=de24c1f2-62fe-4140-a661-e3091860db9a\n",
            "\n",
            "Streaming azureml-logs/70_driver_log.txt\n",
            "========================================\n",
            "\n",
            "[2021-12-08T02:47:12.825868] Entering context manager injector.\n",
            "[2021-12-08T02:47:13.222042] context_manager_injector.py Command line Options: Namespace(inject=['ProjectPythonPath:context_managers.ProjectPythonPath', 'RunHistory:context_managers.RunHistory', 'TrackUserError:context_managers.TrackUserError'], invocation=['python train.py 0.3 0.1'])\n",
            "Script type = COMMAND\n",
            "[2021-12-08T02:47:13.224102] Command=python train.py 0.3 0.1\n",
            "[2021-12-08T02:47:13.224322] Entering Run History Context Manager.\n",
            "[2021-12-08T02:47:14.464397] Command Working Directory=/tmp/azureml_runs/train-project-amlcompute_1638931630_efeb1c94\n",
            "[2021-12-08T02:47:14.464636] Starting Linux command : python train.py 0.3 0.1\n",
            "The AzureMLTokenAuthentication created will not be updated due to missing params. The token expires on 2021-12-29 02:47:10.\n",
            "\n",
            "Elasticnet model (alpha=0.300000, l1_ratio=0.100000):\n",
            "  RMSE: 0.7870477630843808\n",
            "  MAE: 0.6157985955024701\n",
            "  R2: 0.19994093529873613\n",
            "[2021-12-08T02:47:22.503256] Command finished with return code 0\n",
            "\n",
            "\n",
            "[2021-12-08T02:47:22.503661] The experiment completed successfully. Finalizing run...\n",
            "[2021-12-08T02:47:22.503680] Start FinalizingInRunHistory\n",
            "[2021-12-08T02:47:22.503715] Logging experiment finalizing status in history service.\n",
            "Starting the daemon thread to refresh tokens in background for process with pid = 4914\n",
            "Cleaning up all outstanding Run operations, waiting 300.0 seconds\n",
            "1 items cleaning up...\n",
            "Cleanup took 0.0587923526763916 seconds\n",
            "[2021-12-08T02:47:23.118053] Finished context manager injector.\n",
            "\n",
            "Execution Summary\n",
            "=================\n",
            "RunId: train-project-amlcompute_1638931630_efeb1c94\n",
            "Web View: https://ml.azure.com/runs/train-project-amlcompute_1638931630_efeb1c94?wsid=/subscriptions/183da9dd-5294-4576-ba31-a7293f3de21d/resourcegroups/kdhyun2_test/workspaces/brf-mlops-test&tid=de24c1f2-62fe-4140-a661-e3091860db9a\n",
            "\n"
          ]
        },
        {
          "name": "stderr",
          "output_type": "stream",
          "text": [
            "2021/12/08 02:47:25 INFO mlflow.projects: === Run (ID 'train-project-amlcompute_1638931630_efeb1c94') succeeded ===\n"
          ]
        }
      ],
      "source": [
        "remote_mlflow_run = mlflow.projects.run(uri=\".\", \n",
        "                                    parameters={\"alpha\":0.3},\n",
        "                                    backend = \"azureml\",\n",
        "                                    backend_config = backend_config,\n",
        "                                    synchronous=True)"
      ]
    },
    {
      "cell_type": "markdown",
      "metadata": {},
      "source": [
        " "
      ]
    },
    {
      "cell_type": "markdown",
      "metadata": {},
      "source": [
        "### View run \n"
      ]
    },
    {
      "cell_type": "code",
      "execution_count": 8,
      "metadata": {
        "tags": []
      },
      "outputs": [
        {
          "data": {
            "text/html": [
              "<table style=\"width:100%\"><tr><th>Experiment</th><th>Id</th><th>Type</th><th>Status</th><th>Details Page</th><th>Docs Page</th></tr><tr><td>train-project-amlcompute</td><td>train-project-amlcompute_1638931630_efeb1c94</td><td>azureml.scriptrun</td><td>Completed</td><td><a href=\"https://ml.azure.com/runs/train-project-amlcompute_1638931630_efeb1c94?wsid=/subscriptions/183da9dd-5294-4576-ba31-a7293f3de21d/resourcegroups/kdhyun2_test/workspaces/brf-mlops-test&amp;tid=de24c1f2-62fe-4140-a661-e3091860db9a\" target=\"_blank\" rel=\"noopener\">Link to Azure Machine Learning studio</a></td><td><a href=\"https://docs.microsoft.com/en-us/python/api/azureml-core/azureml.core.script_run.ScriptRun?view=azure-ml-py\" target=\"_blank\" rel=\"noopener\">Link to Documentation</a></td></tr></table>"
            ],
            "text/plain": [
              "<azureml.mlflow._internal.submitted_run.AzureMLSubmittedRun at 0x7f1fcdae19d0>"
            ]
          },
          "execution_count": 8,
          "metadata": {},
          "output_type": "execute_result"
        }
      ],
      "source": [
        "remote_mlflow_run"
      ]
    },
    {
      "cell_type": "markdown",
      "metadata": {},
      "source": [
        "## Next Steps\n",
        "\n",
        "Try out these notebooks to learn more about MLflow-Azure Machine Learning integration:\n",
        "\n",
        " * [Train a model using remote compute on Azure Cloud](../train-remote/train-remote.ipynb)\n",
        " * [Train a model using Pytorch and MLflow](../../../ml-frameworks/using-mlflow/train-and-deploy-pytorch)\n",
        "\n"
      ]
    }
  ],
  "metadata": {
    "authors": [
      {
        "name": "shipatel"
      }
    ],
    "category": "tutorial",
    "celltoolbar": "Edit Metadata",
    "compute": [
      "AML Compute"
    ],
    "exclude_from_index": false,
    "framework": [
      "Scikit"
    ],
    "friendly_name": "Use MLflow projects with Azure Machine Learning to train a model",
    "interpreter": {
      "hash": "5826022c13cf670f25f82c54601002af42321e6e77593e3891ed52ffe2de205c"
    },
    "kernelspec": {
      "display_name": "Python 3.6",
      "language": "python",
      "name": "python3"
    },
    "language_info": {
      "codemirror_mode": {
        "name": "ipython",
        "version": 3
      },
      "file_extension": ".py",
      "mimetype": "text/x-python",
      "name": "python",
      "nbconvert_exporter": "python",
      "pygments_lexer": "ipython3",
      "version": "3.8.1"
    },
    "tags": [
      "mlflow",
      "scikit"
    ],
    "task": "Use MLflow projects with Azure Machine Learning to train a model using azureml compute"
  },
  "nbformat": 4,
  "nbformat_minor": 2
}
