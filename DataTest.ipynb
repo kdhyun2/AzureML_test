{
 "cells": [
  {
   "cell_type": "code",
   "execution_count": null,
   "metadata": {},
   "outputs": [],
   "source": [
    "import pandas as pd\n",
    "\n",
    "ACC = pd.read_csv(\"admin092503_202009251622_ACCELEROMETER.txt\")\n",
    "GRV = pd.read_csv(\"admin092503_202009251622_GRAVITY.txt\")"
   ]
  },
  {
   "cell_type": "code",
   "execution_count": null,
   "metadata": {},
   "outputs": [],
   "source": [
    "GRV_XYZ = GRV.iloc[:,-3:]\n",
    "GRV_XYZ.columns = [\"gx\",\"gy\",\"gz\"]\n",
    "ACC_XYZ = ACC.iloc[:,-3:]\n",
    "ACC_XYZ.columns = [\"ax\",\"ay\",\"az\"]"
   ]
  },
  {
   "cell_type": "code",
   "execution_count": null,
   "metadata": {},
   "outputs": [],
   "source": [
    "sum_df = pd.concat([GRV_XYZ, ACC_XYZ], axis=1)\n",
    "\n",
    "result = pd.DataFrame()\n",
    "result[\"X_gap\"] = sum_df[\"gx\"] - sum_df[\"ax\"]\n",
    "result[\"Y_gap\"] = sum_df[\"gy\"] - sum_df[\"ay\"]\n",
    "result[\"Z_gap\"] = sum_df[\"gz\"] - sum_df[\"az\"]\n",
    "\n",
    "result"
   ]
  },
  {
   "cell_type": "code",
   "execution_count": null,
   "metadata": {},
   "outputs": [],
   "source": [
    "GRV_time = pd.DataFrame()\n",
    "GRV_time = GRV[\"Time\"]\n",
    "\n",
    "result = pd.concat([GRV_time, result], axis=1)\n",
    "result"
   ]
  },
  {
   "cell_type": "code",
   "execution_count": null,
   "metadata": {},
   "outputs": [],
   "source": [
    "result.to_csv(\"Gravity_ACC_gap.csv\")"
   ]
  },
  {
   "cell_type": "markdown",
   "metadata": {},
   "source": [
    "# SENSOR DATA TEST"
   ]
  },
  {
   "cell_type": "code",
   "execution_count": 2,
   "metadata": {},
   "outputs": [],
   "source": [
    "import json\n",
    "import pandas as pd\n",
    "import pandas.io.sql as sql\n",
    "from sqlalchemy.engine import URL\n",
    "from sqlalchemy import create_engine, event\n",
    "from pandas.core.algorithms import value_counts\n",
    "import pyodbc\n",
    "import time, datetime\n",
    "import numpy as np\n",
    "from azure.storage.blob.blockblobservice import BlockBlobService\n",
    "from tempfile import NamedTemporaryFile\n",
    "import pytz"
   ]
  },
  {
   "cell_type": "code",
   "execution_count": 3,
   "metadata": {},
   "outputs": [],
   "source": [
    "def get_file(filename,container_name):\n",
    "    blob_service = BlockBlobService(\n",
    "            account_name='',\n",
    "            account_key='')\n",
    "    # 파일을 담을 임시 디렉토리 생성\n",
    "    local_file = NamedTemporaryFile()\n",
    "    # 블롭에서 Stream으로 데이터를 받아 Local_file 임시 디렉토리에 저장\n",
    "    blob_service.get_blob_to_stream(container_name, filename, stream=local_file, \n",
    "    max_connections=2)\n",
    "    # 저장된 파일의 0번 Memory 지정\n",
    "    local_file.seek(0)\n",
    "\n",
    "    # 지정된 메모리 리턴 \n",
    "    return local_file"
   ]
  },
  {
   "cell_type": "code",
   "execution_count": 12,
   "metadata": {},
   "outputs": [],
   "source": [
    "def gen_timestamp_df(result_df):\n",
    "    stamp_list = []\n",
    "    for i in result_df[\"SENSING_TIME\"]:\n",
    "        s_time = i[:19]\n",
    "        stamp = int(time.mktime(datetime.datetime.strptime(str(s_time),'%Y-%m-%d %H:%M:%S').timetuple()))-32400\n",
    "        stamp_list.append(stamp)\n",
    "    stamp_df = pd.DataFrame(stamp_list)\n",
    "    stamp_df.columns = [\"TIMESTAMP_VAL\"]\n",
    "    result_df = pd.concat([result_df, stamp_df], axis=1)\n",
    "    \n",
    "    return result_df"
   ]
  },
  {
   "cell_type": "code",
   "execution_count": 14,
   "metadata": {},
   "outputs": [],
   "source": [
    "def get_json_HRM(container_name, blob_name):\n",
    "    data = str(get_file(blob_name,container_name).read())[2:-1]\n",
    "    data = data.split(\"\\\\n\")[1:]\n",
    "    u_name = blob_name.split(\"/\")[0]\n",
    "    result = [] \n",
    "    for index in data:\n",
    "        obj = index.split(\",\")\n",
    "        result.append(obj)\n",
    "\n",
    "    u_name = blob_name.split(\"/\")[0]\n",
    "    result_df = pd.DataFrame(result).dropna().sort_values(by=0).drop([1],axis=1)\n",
    "    result_df.columns = [\"SENSING_TIME\", \"SENSOR_VAL\"]\n",
    "    result_df.sort_values([\"SENSING_TIME\"], inplace=True)\n",
    "    result_df = gen_timestamp_df(result_df)\n",
    "    result_df[\"SENSOR_TYPE\"] = \"HRM\"\n",
    "    result_df[\"SENIOR_ID\"] = u_name\n",
    "    KST = pytz.timezone('Asia/Seoul')\n",
    "    result_df[\"CREATE_DATE\"] = str(datetime.datetime.now(tz=KST))[:19]\n",
    "    result_df[\"CREATE_USER\"] = \"AF\"\n",
    "    result_df = result_df[[\"SENIOR_ID\",\"SENSOR_TYPE\",\"TIMESTAMP_VAL\",\"SENSOR_VAL\",\"SENSING_TIME\",\"CREATE_DATE\",\"CREATE_USER\"]]\n",
    "                                  \n",
    "    return result_df"
   ]
  },
  {
   "cell_type": "code",
   "execution_count": 35,
   "metadata": {},
   "outputs": [],
   "source": [
    "def get_json_step(container_name, blob_name):\n",
    "    data = str(get_file(blob_name,container_name).read())[2:-1]\n",
    "    data = data.split(\"\\\\n\")[1:]\n",
    "    u_name = blob_name.split(\"/\")[0]\n",
    "    result = [] \n",
    "    for index in data:\n",
    "        obj = index.split(\",\")\n",
    "        result.append(obj)\n",
    "\n",
    "    u_name = blob_name.split(\"/\")[0]\n",
    "    result_df = pd.DataFrame(result).dropna().sort_values(by=0).drop([1],axis=1)\n",
    "    result_df.columns = [\"SENSING_TIME\", \"SENSOR_VAL\"]\n",
    "    result_df = result_df.astype({\"SENSOR_VAL\":int})\n",
    "    result_df[\"SENSOR_VAL\"] = result_df[\"SENSOR_VAL\"].sum()\n",
    "    result_df[\"SENSING_TIME\"] = result_df[\"SENSING_TIME\"].max()\n",
    "    result_df = gen_timestamp_df(result_df)\n",
    "    result_df[\"SENSOR_TYPE\"] = \"StepCount\"\n",
    "    result_df[\"SENIOR_ID\"] = u_name\n",
    "    KST = pytz.timezone('Asia/Seoul')\n",
    "    result_df[\"CREATE_DATE\"] = str(datetime.datetime.now(tz=KST))[:19]\n",
    "    result_df[\"CREATE_USER\"] = \"AF\"\n",
    "    result_df = result_df[[\"SENIOR_ID\",\"SENSOR_TYPE\",\"TIMESTAMP_VAL\",\"SENSOR_VAL\",\"SENSING_TIME\",\"CREATE_DATE\",\"CREATE_USER\"]]\n",
    "    result_df = result_df.head(1)\n",
    "\n",
    "    return result_df"
   ]
  },
  {
   "cell_type": "code",
   "execution_count": 36,
   "metadata": {},
   "outputs": [
    {
     "data": {
      "text/html": [
       "<div>\n",
       "<style scoped>\n",
       "    .dataframe tbody tr th:only-of-type {\n",
       "        vertical-align: middle;\n",
       "    }\n",
       "\n",
       "    .dataframe tbody tr th {\n",
       "        vertical-align: top;\n",
       "    }\n",
       "\n",
       "    .dataframe thead th {\n",
       "        text-align: right;\n",
       "    }\n",
       "</style>\n",
       "<table border=\"1\" class=\"dataframe\">\n",
       "  <thead>\n",
       "    <tr style=\"text-align: right;\">\n",
       "      <th></th>\n",
       "      <th>SENIOR_ID</th>\n",
       "      <th>SENSOR_TYPE</th>\n",
       "      <th>TIMESTAMP_VAL</th>\n",
       "      <th>SENSOR_VAL</th>\n",
       "      <th>SENSING_TIME</th>\n",
       "      <th>CREATE_DATE</th>\n",
       "      <th>CREATE_USER</th>\n",
       "    </tr>\n",
       "  </thead>\n",
       "  <tbody>\n",
       "    <tr>\n",
       "      <th>0</th>\n",
       "      <td>minisoft11</td>\n",
       "      <td>StepCount</td>\n",
       "      <td>1638405301</td>\n",
       "      <td>10</td>\n",
       "      <td>2021-12-02 18:35:01:95300</td>\n",
       "      <td>2021-12-09 15:39:40</td>\n",
       "      <td>AF</td>\n",
       "    </tr>\n",
       "  </tbody>\n",
       "</table>\n",
       "</div>"
      ],
      "text/plain": [
       "    SENIOR_ID SENSOR_TYPE  TIMESTAMP_VAL  SENSOR_VAL  \\\n",
       "0  minisoft11   StepCount     1638405301          10   \n",
       "\n",
       "                SENSING_TIME          CREATE_DATE CREATE_USER  \n",
       "0  2021-12-02 18:35:01:95300  2021-12-09 15:39:40          AF  "
      ]
     },
     "execution_count": 36,
     "metadata": {},
     "output_type": "execute_result"
    }
   ],
   "source": [
    "container_name = \"w-sensordata\"\n",
    "blob_name = \"minisoft11/STEPCOUNTER_202112021830.txt\"\n",
    "df =  get_json_step(container_name=container_name, blob_name=blob_name)\n",
    "df"
   ]
  },
  {
   "cell_type": "code",
   "execution_count": null,
   "metadata": {},
   "outputs": [],
   "source": []
  }
 ],
 "metadata": {
  "interpreter": {
   "hash": "975ee0b139c52daa24b2c5f37d2f4d30d1dc229f11d5200a6cf31e29d8cb028d"
  },
  "kernelspec": {
   "display_name": "Python 3.9.6 64-bit",
   "language": "python",
   "name": "python3"
  },
  "language_info": {
   "codemirror_mode": {
    "name": "ipython",
    "version": 3
   },
   "file_extension": ".py",
   "mimetype": "text/x-python",
   "name": "python",
   "nbconvert_exporter": "python",
   "pygments_lexer": "ipython3",
   "version": "3.9.6"
  },
  "orig_nbformat": 4
 },
 "nbformat": 4,
 "nbformat_minor": 2
}
