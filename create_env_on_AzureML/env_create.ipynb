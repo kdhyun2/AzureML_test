{
 "cells": [
  {
   "cell_type": "code",
   "execution_count": 1,
   "id": "7407971e",
   "metadata": {},
   "outputs": [
    {
     "name": "stdout",
     "output_type": "stream",
     "text": [
      "SDK version: 1.33.0\n",
      "brf-mlops-test\n",
      "kdhyun2_test\n",
      "eastus\n"
     ]
    }
   ],
   "source": [
    "# azureml.core는 ML service 전반적인 서비스를 모두 코드로 이용할 수 있는 패키지\n",
    "import azureml.core\n",
    "print(\"SDK version:\", azureml.core.VERSION)\n",
    "from azureml.core import Workspace\n",
    "from azureml.core.compute import AksCompute, ComputeTarget\n",
    "from azureml.core.webservice import Webservice, AksWebservice\n",
    "from azureml.core.model import Model\n",
    "from azureml.core.environment import Environment\n",
    "from azureml.core.conda_dependencies import CondaDependencies\n",
    "\n",
    "ws = Workspace.from_config()\n",
    "print(ws.name, ws.resource_group, ws.location, sep='\\n')"
   ]
  },
  {
   "cell_type": "code",
   "execution_count": 2,
   "id": "1a78bf74",
   "metadata": {},
   "outputs": [
    {
     "name": "stderr",
     "output_type": "stream",
     "text": [
      "'enabled' is deprecated. Please use the azureml.core.runconfig.DockerConfiguration object with the 'use_docker' param instead.\n"
     ]
    }
   ],
   "source": [
    "# env = Environment(name='myenv_logistic')\n",
    "myenv = Environment.from_conda_specification(name = \"TensorFlow_multi\",\n",
    "                                             file_path = \"./env/tensor_multi/conda_dependencies.yml\")\n",
    "myenv.docker.enabled = True\n",
    "myenv.docker.base_image = None\n",
    "myenv.docker.base_dockerfile = \"./env/tensor_multi/BaseDockerfile\""
   ]
  },
  {
   "cell_type": "code",
   "execution_count": 3,
   "id": "88adc3f5",
   "metadata": {},
   "outputs": [
    {
     "data": {
      "text/plain": [
       "{\n",
       "    \"databricks\": {\n",
       "        \"eggLibraries\": [],\n",
       "        \"jarLibraries\": [],\n",
       "        \"mavenLibraries\": [],\n",
       "        \"pypiLibraries\": [],\n",
       "        \"rcranLibraries\": []\n",
       "    },\n",
       "    \"docker\": {\n",
       "        \"arguments\": [],\n",
       "        \"baseDockerfile\": \"FROM mcr.microsoft.com/azureml/openmpi4.1.0-cuda11.1-cudnn8-ubuntu18.04:20210727.v1\\nRUN apt-get install -y libgl1-mesa-dev\\n\\n\",\n",
       "        \"baseImage\": null,\n",
       "        \"baseImageRegistry\": {\n",
       "            \"address\": null,\n",
       "            \"password\": null,\n",
       "            \"registryIdentity\": null,\n",
       "            \"username\": null\n",
       "        },\n",
       "        \"enabled\": true,\n",
       "        \"platform\": {\n",
       "            \"architecture\": \"amd64\",\n",
       "            \"os\": \"Linux\"\n",
       "        },\n",
       "        \"sharedVolumes\": true,\n",
       "        \"shmSize\": null\n",
       "    },\n",
       "    \"environmentVariables\": {\n",
       "        \"EXAMPLE_ENV_VAR\": \"EXAMPLE_VALUE\"\n",
       "    },\n",
       "    \"inferencingStackVersion\": null,\n",
       "    \"name\": \"TensorFlow_multi\",\n",
       "    \"python\": {\n",
       "        \"baseCondaEnvironment\": null,\n",
       "        \"condaDependencies\": {\n",
       "            \"channels\": [\n",
       "                \"anaconda\",\n",
       "                \"conda-forge\"\n",
       "            ],\n",
       "            \"dependencies\": [\n",
       "                \"python=3.8\",\n",
       "                \"pip=20.2.4\",\n",
       "                {\n",
       "                    \"pip\": [\n",
       "                        \"azureml-core==1.33.0\",\n",
       "                        \"azureml-defaults==1.33.0\",\n",
       "                        \"azureml-telemetry==1.33.0\",\n",
       "                        \"azureml-train-restclients-hyperdrive==1.33.0\",\n",
       "                        \"azureml-train-core==1.33.0\",\n",
       "                        \"cmake==3.18.2\",\n",
       "                        \"mkl==2018.0.3\",\n",
       "                        \"horovod==0.21.3\",\n",
       "                        \"pandas\",\n",
       "                        \"numpy\",\n",
       "                        \"scikit-learn\",\n",
       "                        \"tqdm\",\n",
       "                        \"matplotlib\",\n",
       "                        \"tensorflow==2.6.0\",\n",
       "                        \"horovod==0.21.3\",\n",
       "                        \"tensorboard==1.14.0\",\n",
       "                        \"future==0.17.1\",\n",
       "                        \"opencv-python\",\n",
       "                        \"mtcnn\",\n",
       "                        \"scikit-learn\",\n",
       "                        \"scikit-image\",\n",
       "                        \"tqdm\",\n",
       "                        \"matplotlib\",\n",
       "                        \"statistics\",\n",
       "                        \"moviepy\",\n",
       "                        \"librosa\",\n",
       "                        \"imageio\",\n",
       "                        \"imageio-ffmpeg\",\n",
       "                        \"ffmpeg-python\"\n",
       "                    ]\n",
       "                }\n",
       "            ],\n",
       "            \"name\": \"azureml_fc87578e6c4ce0d39d90624e526ffc07\"\n",
       "        },\n",
       "        \"condaDependenciesFile\": null,\n",
       "        \"interpreterPath\": \"python\",\n",
       "        \"userManagedDependencies\": false\n",
       "    },\n",
       "    \"r\": null,\n",
       "    \"spark\": {\n",
       "        \"packages\": [],\n",
       "        \"precachePackages\": true,\n",
       "        \"repositories\": []\n",
       "    },\n",
       "    \"version\": \"1\"\n",
       "}"
      ]
     },
     "execution_count": 3,
     "metadata": {},
     "output_type": "execute_result"
    }
   ],
   "source": [
    "myenv.register(workspace=ws)"
   ]
  },
  {
   "cell_type": "code",
   "execution_count": null,
   "id": "141f7708",
   "metadata": {},
   "outputs": [],
   "source": []
  }
 ],
 "metadata": {
  "interpreter": {
   "hash": "814635fff90d4fb7edb7cf7b4efbafc2586e819c8eea62750f0795f97ef3e14f"
  },
  "kernelspec": {
   "display_name": "Python 3.8 - AzureML",
   "language": "python",
   "name": "python3"
  },
  "language_info": {
   "codemirror_mode": {
    "name": "ipython",
    "version": 3
   },
   "file_extension": ".py",
   "mimetype": "text/x-python",
   "name": "python",
   "nbconvert_exporter": "python",
   "pygments_lexer": "ipython3",
   "version": "3.8.1"
  }
 },
 "nbformat": 4,
 "nbformat_minor": 5
}
