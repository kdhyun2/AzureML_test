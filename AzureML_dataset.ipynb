{
 "cells": [
  {
   "cell_type": "code",
   "execution_count": null,
   "metadata": {},
   "outputs": [],
   "source": [
    "import azureml\n",
    "from azureml.core import Workspace\n",
    "\n",
    "# check core SDK version number\n",
    "print(\"Azure ML SDK Version: \", azureml.core.VERSION)\n",
    "\n",
    "ws = Workspace.from_config()\n",
    "print('Workspace name: ' + ws.name, \n",
    "      'Azure region: ' + ws.location, \n",
    "      'Resource group: ' + ws.resource_group, sep='\\n')"
   ]
  },
  {
   "cell_type": "code",
   "execution_count": null,
   "metadata": {},
   "outputs": [],
   "source": [
    "from azureml.core import Workspace, Datastore, Dataset\n",
    "\n",
    "blob_datastore = Datastore.register_azure_blob_container(workspace=ws,\n",
    "                                                      datastore_name='tokma',\n",
    "                                                      container_name='w-sensordata',\n",
    "                                                      account_name='tokmadatastorage')\n",
    "\n",
    "# create a FileDataset pointing to files in 'animals' folder and its subfolders recursively\n",
    "datastore_paths = [(blob_datastore, '/tm004/ACCELEROMETER_202108201621.txt')]\n",
    "txt_data = Dataset.File.from_files(path=datastore_paths)"
   ]
  },
  {
   "cell_type": "code",
   "execution_count": null,
   "metadata": {},
   "outputs": [],
   "source": [
    "txt_data_res = txt_data.register(workspace=ws,\n",
    "                                 name='txt_data_res',\n",
    "                                 description='test training data')"
   ]
  }
 ],
 "metadata": {
  "interpreter": {
   "hash": "5826022c13cf670f25f82c54601002af42321e6e77593e3891ed52ffe2de205c"
  },
  "kernelspec": {
   "display_name": "Python 3.8.1 64-bit ('azureml_py38_tensorflow': conda)",
   "language": "python",
   "name": "python3"
  },
  "language_info": {
   "name": "python",
   "version": "3.8.1"
  },
  "orig_nbformat": 4
 },
 "nbformat": 4,
 "nbformat_minor": 2
}
